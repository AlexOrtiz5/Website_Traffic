{
 "cells": [
  {
   "cell_type": "markdown",
   "metadata": {},
   "source": [
    "### Import libraries"
   ]
  },
  {
   "cell_type": "code",
   "execution_count": 1,
   "metadata": {},
   "outputs": [],
   "source": [
    "import pandas as pd"
   ]
  },
  {
   "cell_type": "markdown",
   "metadata": {},
   "source": [
    "## Load the Data"
   ]
  },
  {
   "cell_type": "code",
   "execution_count": 2,
   "metadata": {},
   "outputs": [
    {
     "data": {
      "text/html": [
       "<div>\n",
       "<style scoped>\n",
       "    .dataframe tbody tr th:only-of-type {\n",
       "        vertical-align: middle;\n",
       "    }\n",
       "\n",
       "    .dataframe tbody tr th {\n",
       "        vertical-align: top;\n",
       "    }\n",
       "\n",
       "    .dataframe thead th {\n",
       "        text-align: right;\n",
       "    }\n",
       "</style>\n",
       "<table border=\"1\" class=\"dataframe\">\n",
       "  <thead>\n",
       "    <tr style=\"text-align: right;\">\n",
       "      <th></th>\n",
       "      <th>Page Views</th>\n",
       "      <th>Session Duration</th>\n",
       "      <th>Bounce Rate</th>\n",
       "      <th>Traffic Source</th>\n",
       "      <th>Time on Page</th>\n",
       "      <th>Previous Visits</th>\n",
       "      <th>Conversion Rate</th>\n",
       "    </tr>\n",
       "  </thead>\n",
       "  <tbody>\n",
       "    <tr>\n",
       "      <th>0</th>\n",
       "      <td>5</td>\n",
       "      <td>11.051381</td>\n",
       "      <td>0.230652</td>\n",
       "      <td>Organic</td>\n",
       "      <td>3.890460</td>\n",
       "      <td>3</td>\n",
       "      <td>1.0</td>\n",
       "    </tr>\n",
       "    <tr>\n",
       "      <th>1</th>\n",
       "      <td>4</td>\n",
       "      <td>3.429316</td>\n",
       "      <td>0.391001</td>\n",
       "      <td>Social</td>\n",
       "      <td>8.478174</td>\n",
       "      <td>0</td>\n",
       "      <td>1.0</td>\n",
       "    </tr>\n",
       "    <tr>\n",
       "      <th>2</th>\n",
       "      <td>4</td>\n",
       "      <td>1.621052</td>\n",
       "      <td>0.397986</td>\n",
       "      <td>Organic</td>\n",
       "      <td>9.636170</td>\n",
       "      <td>2</td>\n",
       "      <td>1.0</td>\n",
       "    </tr>\n",
       "    <tr>\n",
       "      <th>3</th>\n",
       "      <td>5</td>\n",
       "      <td>3.629279</td>\n",
       "      <td>0.180458</td>\n",
       "      <td>Organic</td>\n",
       "      <td>2.071925</td>\n",
       "      <td>3</td>\n",
       "      <td>1.0</td>\n",
       "    </tr>\n",
       "    <tr>\n",
       "      <th>4</th>\n",
       "      <td>5</td>\n",
       "      <td>4.235843</td>\n",
       "      <td>0.291541</td>\n",
       "      <td>Paid</td>\n",
       "      <td>1.960654</td>\n",
       "      <td>5</td>\n",
       "      <td>1.0</td>\n",
       "    </tr>\n",
       "    <tr>\n",
       "      <th>...</th>\n",
       "      <td>...</td>\n",
       "      <td>...</td>\n",
       "      <td>...</td>\n",
       "      <td>...</td>\n",
       "      <td>...</td>\n",
       "      <td>...</td>\n",
       "      <td>...</td>\n",
       "    </tr>\n",
       "    <tr>\n",
       "      <th>1995</th>\n",
       "      <td>1</td>\n",
       "      <td>2.724513</td>\n",
       "      <td>0.207187</td>\n",
       "      <td>Referral</td>\n",
       "      <td>1.324206</td>\n",
       "      <td>2</td>\n",
       "      <td>1.0</td>\n",
       "    </tr>\n",
       "    <tr>\n",
       "      <th>1996</th>\n",
       "      <td>3</td>\n",
       "      <td>0.392856</td>\n",
       "      <td>0.095559</td>\n",
       "      <td>Organic</td>\n",
       "      <td>3.824416</td>\n",
       "      <td>1</td>\n",
       "      <td>1.0</td>\n",
       "    </tr>\n",
       "    <tr>\n",
       "      <th>1997</th>\n",
       "      <td>4</td>\n",
       "      <td>9.899823</td>\n",
       "      <td>0.446622</td>\n",
       "      <td>Organic</td>\n",
       "      <td>1.288675</td>\n",
       "      <td>1</td>\n",
       "      <td>1.0</td>\n",
       "    </tr>\n",
       "    <tr>\n",
       "      <th>1998</th>\n",
       "      <td>3</td>\n",
       "      <td>0.393319</td>\n",
       "      <td>0.278340</td>\n",
       "      <td>Paid</td>\n",
       "      <td>5.037584</td>\n",
       "      <td>2</td>\n",
       "      <td>1.0</td>\n",
       "    </tr>\n",
       "    <tr>\n",
       "      <th>1999</th>\n",
       "      <td>3</td>\n",
       "      <td>0.882638</td>\n",
       "      <td>0.338026</td>\n",
       "      <td>Direct</td>\n",
       "      <td>5.186908</td>\n",
       "      <td>3</td>\n",
       "      <td>1.0</td>\n",
       "    </tr>\n",
       "  </tbody>\n",
       "</table>\n",
       "<p>2000 rows × 7 columns</p>\n",
       "</div>"
      ],
      "text/plain": [
       "      Page Views  Session Duration  Bounce Rate Traffic Source  Time on Page  \\\n",
       "0              5         11.051381     0.230652        Organic      3.890460   \n",
       "1              4          3.429316     0.391001         Social      8.478174   \n",
       "2              4          1.621052     0.397986        Organic      9.636170   \n",
       "3              5          3.629279     0.180458        Organic      2.071925   \n",
       "4              5          4.235843     0.291541           Paid      1.960654   \n",
       "...          ...               ...          ...            ...           ...   \n",
       "1995           1          2.724513     0.207187       Referral      1.324206   \n",
       "1996           3          0.392856     0.095559        Organic      3.824416   \n",
       "1997           4          9.899823     0.446622        Organic      1.288675   \n",
       "1998           3          0.393319     0.278340           Paid      5.037584   \n",
       "1999           3          0.882638     0.338026         Direct      5.186908   \n",
       "\n",
       "      Previous Visits  Conversion Rate  \n",
       "0                   3              1.0  \n",
       "1                   0              1.0  \n",
       "2                   2              1.0  \n",
       "3                   3              1.0  \n",
       "4                   5              1.0  \n",
       "...               ...              ...  \n",
       "1995                2              1.0  \n",
       "1996                1              1.0  \n",
       "1997                1              1.0  \n",
       "1998                2              1.0  \n",
       "1999                3              1.0  \n",
       "\n",
       "[2000 rows x 7 columns]"
      ]
     },
     "execution_count": 2,
     "metadata": {},
     "output_type": "execute_result"
    }
   ],
   "source": [
    "# Load the CSV file\n",
    "df = pd.read_csv(\"./Data/website_wata.csv\") \n",
    "df"
   ]
  },
  {
   "cell_type": "code",
   "execution_count": 3,
   "metadata": {},
   "outputs": [
    {
     "data": {
      "text/plain": [
       "Index(['Page Views', 'Session Duration', 'Bounce Rate', 'Traffic Source',\n",
       "       'Time on Page', 'Previous Visits', 'Conversion Rate'],\n",
       "      dtype='object')"
      ]
     },
     "execution_count": 3,
     "metadata": {},
     "output_type": "execute_result"
    }
   ],
   "source": [
    "df.columns"
   ]
  },
  {
   "cell_type": "markdown",
   "metadata": {},
   "source": [
    "## Inspect the Data"
   ]
  },
  {
   "cell_type": "code",
   "execution_count": 4,
   "metadata": {},
   "outputs": [
    {
     "name": "stdout",
     "output_type": "stream",
     "text": [
      "   Page Views  Session Duration  Bounce Rate Traffic Source  Time on Page  \\\n",
      "0           5         11.051381     0.230652        Organic      3.890460   \n",
      "1           4          3.429316     0.391001         Social      8.478174   \n",
      "2           4          1.621052     0.397986        Organic      9.636170   \n",
      "3           5          3.629279     0.180458        Organic      2.071925   \n",
      "4           5          4.235843     0.291541           Paid      1.960654   \n",
      "\n",
      "   Previous Visits  Conversion Rate  \n",
      "0                3              1.0  \n",
      "1                0              1.0  \n",
      "2                2              1.0  \n",
      "3                3              1.0  \n",
      "4                5              1.0  \n"
     ]
    }
   ],
   "source": [
    "print(df.head()) # First few rows"
   ]
  },
  {
   "cell_type": "code",
   "execution_count": 5,
   "metadata": {},
   "outputs": [
    {
     "name": "stdout",
     "output_type": "stream",
     "text": [
      "<class 'pandas.core.frame.DataFrame'>\n",
      "RangeIndex: 2000 entries, 0 to 1999\n",
      "Data columns (total 7 columns):\n",
      " #   Column            Non-Null Count  Dtype  \n",
      "---  ------            --------------  -----  \n",
      " 0   Page Views        2000 non-null   int64  \n",
      " 1   Session Duration  2000 non-null   float64\n",
      " 2   Bounce Rate       2000 non-null   float64\n",
      " 3   Traffic Source    2000 non-null   object \n",
      " 4   Time on Page      2000 non-null   float64\n",
      " 5   Previous Visits   2000 non-null   int64  \n",
      " 6   Conversion Rate   2000 non-null   float64\n",
      "dtypes: float64(4), int64(2), object(1)\n",
      "memory usage: 109.5+ KB\n",
      "None\n"
     ]
    }
   ],
   "source": [
    "print(df.info()) # Data types and non-null counts"
   ]
  },
  {
   "cell_type": "code",
   "execution_count": 6,
   "metadata": {},
   "outputs": [
    {
     "name": "stdout",
     "output_type": "stream",
     "text": [
      "        Page Views  Session Duration  Bounce Rate  Time on Page  \\\n",
      "count  2000.000000       2000.000000  2000.000000   2000.000000   \n",
      "mean      4.950500          3.022045     0.284767      4.027439   \n",
      "std       2.183903          3.104518     0.159781      2.887422   \n",
      "min       0.000000          0.003613     0.007868      0.068515   \n",
      "25%       3.000000          0.815828     0.161986      1.935037   \n",
      "50%       5.000000          1.993983     0.266375      3.315316   \n",
      "75%       6.000000          4.197569     0.388551      5.414627   \n",
      "max      14.000000         20.290516     0.844939     24.796182   \n",
      "\n",
      "       Previous Visits  Conversion Rate  \n",
      "count      2000.000000      2000.000000  \n",
      "mean          1.978500         0.982065  \n",
      "std           1.432852         0.065680  \n",
      "min           0.000000         0.343665  \n",
      "25%           1.000000         1.000000  \n",
      "50%           2.000000         1.000000  \n",
      "75%           3.000000         1.000000  \n",
      "max           9.000000         1.000000  \n"
     ]
    }
   ],
   "source": [
    "print(df.describe()) # Summary statistics"
   ]
  },
  {
   "cell_type": "markdown",
   "metadata": {},
   "source": [
    "## Handle Missing Values"
   ]
  },
  {
   "cell_type": "code",
   "execution_count": 7,
   "metadata": {},
   "outputs": [
    {
     "name": "stdout",
     "output_type": "stream",
     "text": [
      "Page Views          0\n",
      "Session Duration    0\n",
      "Bounce Rate         0\n",
      "Traffic Source      0\n",
      "Time on Page        0\n",
      "Previous Visits     0\n",
      "Conversion Rate     0\n",
      "dtype: int64\n"
     ]
    }
   ],
   "source": [
    "print(df.isnull().sum()) # Count missing values per column\n",
    "\n",
    "# Example: Impute missing 'Session Duration' with the median\n",
    "df['Session Duration'].fillna(df['Session Duration'].median(), inplace=True)\n",
    "\n",
    "# Example: Remove rows with missing 'Conversion Rate'\n",
    "df.dropna(subset=['Conversion Rate'], inplace=True)"
   ]
  },
  {
   "cell_type": "markdown",
   "metadata": {},
   "source": [
    "## Data type Conversion"
   ]
  },
  {
   "cell_type": "code",
   "execution_count": 8,
   "metadata": {},
   "outputs": [],
   "source": [
    "# Example: Convert 'Page Views' to integer\n",
    "df['Page Views'] = pd.to_numeric(df['Page Views'], errors='coerce').fillna(0).astype(int)\n",
    "\n",
    "# Example: Convert 'Bounce Rate' and 'Conversion Rate' to float, after removing '%' symbol if present.\n",
    "# df['Bounce Rate'] = df['Bounce Rate'].str.replace('%','', regex=False).astype(float) / 100\n",
    "# df['Conversion Rate'] = df['Conversion Rate'].str.replace('%','', regex=False).astype(float) / 100"
   ]
  },
  {
   "cell_type": "markdown",
   "metadata": {},
   "source": [
    "## Handle Outliers"
   ]
  },
  {
   "cell_type": "code",
   "execution_count": 9,
   "metadata": {},
   "outputs": [],
   "source": [
    "# Example: Remove outliers in 'Session Duration' using IQR (Interquartile Range)\n",
    "Q1 = df['Session Duration'].quantile(0.25)\n",
    "Q3 = df['Session Duration'].quantile(0.75)\n",
    "IQR = Q3 - Q1\n",
    "df = df[~((df['Session Duration'] < (Q1 - 1.5 * IQR)) | (df['Session Duration'] > (Q3 + 1.5 * IQR)))]"
   ]
  },
  {
   "cell_type": "markdown",
   "metadata": {},
   "source": [
    "## Clean categorical Data"
   ]
  },
  {
   "cell_type": "code",
   "execution_count": 10,
   "metadata": {},
   "outputs": [
    {
     "name": "stderr",
     "output_type": "stream",
     "text": [
      "C:\\Users\\lualg\\AppData\\Local\\Temp\\ipykernel_26608\\1297167445.py:2: SettingWithCopyWarning: \n",
      "A value is trying to be set on a copy of a slice from a DataFrame.\n",
      "Try using .loc[row_indexer,col_indexer] = value instead\n",
      "\n",
      "See the caveats in the documentation: https://pandas.pydata.org/pandas-docs/stable/user_guide/indexing.html#returning-a-view-versus-a-copy\n",
      "  df['Traffic Source'] = df['Traffic Source'].str.strip().str.lower()\n"
     ]
    }
   ],
   "source": [
    "# Example: Remove extra spaces and convert to lowercase\n",
    "df['Traffic Source'] = df['Traffic Source'].str.strip().str.lower()\n",
    "\n",
    "# Example: Replace variations of \"google\" with \"google\"\n",
    "# df['Traffic Source'] = df['Traffic Source'].replace(['google search', 'google ads'], 'google')"
   ]
  },
  {
   "cell_type": "markdown",
   "metadata": {},
   "source": [
    "## More cleaning"
   ]
  },
  {
   "cell_type": "code",
   "execution_count": 11,
   "metadata": {},
   "outputs": [
    {
     "name": "stderr",
     "output_type": "stream",
     "text": [
      "C:\\Users\\lualg\\AppData\\Local\\Temp\\ipykernel_26608\\3467839775.py:7: SettingWithCopyWarning: \n",
      "A value is trying to be set on a copy of a slice from a DataFrame.\n",
      "Try using .loc[row_indexer,col_indexer] = value instead\n",
      "\n",
      "See the caveats in the documentation: https://pandas.pydata.org/pandas-docs/stable/user_guide/indexing.html#returning-a-view-versus-a-copy\n",
      "  df[col] = df[col]/100\n",
      "C:\\Users\\lualg\\AppData\\Local\\Temp\\ipykernel_26608\\3467839775.py:12: SettingWithCopyWarning: \n",
      "A value is trying to be set on a copy of a slice from a DataFrame.\n",
      "Try using .loc[row_indexer,col_indexer] = value instead\n",
      "\n",
      "See the caveats in the documentation: https://pandas.pydata.org/pandas-docs/stable/user_guide/indexing.html#returning-a-view-versus-a-copy\n",
      "  df[col] = pd.to_numeric(df[col], errors='coerce')\n"
     ]
    }
   ],
   "source": [
    "#Example of cleaning all percentage columns.\n",
    "percentage_columns = ['Bounce Rate', 'Conversion Rate']\n",
    "for col in percentage_columns:\n",
    "    if df[col].dtype == 'object':\n",
    "        df[col] = df[col].str.replace('%','', regex=False).astype(float) / 100\n",
    "    else:\n",
    "        df[col] = df[col]/100\n",
    "\n",
    "#Ensure that all numerical columns are numerical.\n",
    "numerical_columns = ['Page Views', 'Session Duration', 'Time on Page', 'Previous Visits']\n",
    "for col in numerical_columns:\n",
    "    df[col] = pd.to_numeric(df[col], errors='coerce')\n",
    "\n",
    "#Remove all rows that contain a NaN after the numerical conversion.\n",
    "df = df.dropna()\n",
    "\n",
    "#Ensure that all numerical columns are positive.\n",
    "for col in numerical_columns:\n",
    "    df = df[df[col] >= 0]\n",
    "\n",
    "#Ensure that page views and previous visits are integers.\n",
    "df['Page Views'] = df['Page Views'].astype(int)\n",
    "df['Previous Visits'] = df['Previous Visits'].astype(int)"
   ]
  },
  {
   "cell_type": "markdown",
   "metadata": {},
   "source": [
    "## Save the clean data"
   ]
  },
  {
   "cell_type": "code",
   "execution_count": 12,
   "metadata": {},
   "outputs": [],
   "source": [
    "df.to_csv(\"./Data/clean_website_wata.csv\", index=False)"
   ]
  }
 ],
 "metadata": {
  "kernelspec": {
   "display_name": "base",
   "language": "python",
   "name": "python3"
  },
  "language_info": {
   "codemirror_mode": {
    "name": "ipython",
    "version": 3
   },
   "file_extension": ".py",
   "mimetype": "text/x-python",
   "name": "python",
   "nbconvert_exporter": "python",
   "pygments_lexer": "ipython3",
   "version": "3.11.5"
  }
 },
 "nbformat": 4,
 "nbformat_minor": 2
}
