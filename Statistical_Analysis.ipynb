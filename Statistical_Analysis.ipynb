{
 "cells": [
  {
   "cell_type": "markdown",
   "metadata": {},
   "source": [
    "# Import libraries"
   ]
  },
  {
   "cell_type": "code",
   "execution_count": 1,
   "metadata": {},
   "outputs": [],
   "source": [
    "import pandas as pd\n",
    "import scipy.stats as stats\n",
    "import statsmodels.api as sm\n",
    "from statsmodels.formula.api import ols"
   ]
  },
  {
   "cell_type": "code",
   "execution_count": 2,
   "metadata": {},
   "outputs": [
    {
     "data": {
      "text/html": [
       "<div>\n",
       "<style scoped>\n",
       "    .dataframe tbody tr th:only-of-type {\n",
       "        vertical-align: middle;\n",
       "    }\n",
       "\n",
       "    .dataframe tbody tr th {\n",
       "        vertical-align: top;\n",
       "    }\n",
       "\n",
       "    .dataframe thead th {\n",
       "        text-align: right;\n",
       "    }\n",
       "</style>\n",
       "<table border=\"1\" class=\"dataframe\">\n",
       "  <thead>\n",
       "    <tr style=\"text-align: right;\">\n",
       "      <th></th>\n",
       "      <th>Page Views</th>\n",
       "      <th>Session Duration</th>\n",
       "      <th>Bounce Rate</th>\n",
       "      <th>Traffic Source</th>\n",
       "      <th>Time on Page</th>\n",
       "      <th>Previous Visits</th>\n",
       "      <th>Conversion Rate</th>\n",
       "    </tr>\n",
       "  </thead>\n",
       "  <tbody>\n",
       "    <tr>\n",
       "      <th>0</th>\n",
       "      <td>4</td>\n",
       "      <td>3.429316</td>\n",
       "      <td>0.003910</td>\n",
       "      <td>social</td>\n",
       "      <td>8.478174</td>\n",
       "      <td>0</td>\n",
       "      <td>0.01</td>\n",
       "    </tr>\n",
       "    <tr>\n",
       "      <th>1</th>\n",
       "      <td>4</td>\n",
       "      <td>1.621052</td>\n",
       "      <td>0.003980</td>\n",
       "      <td>organic</td>\n",
       "      <td>9.636170</td>\n",
       "      <td>2</td>\n",
       "      <td>0.01</td>\n",
       "    </tr>\n",
       "    <tr>\n",
       "      <th>2</th>\n",
       "      <td>5</td>\n",
       "      <td>3.629279</td>\n",
       "      <td>0.001805</td>\n",
       "      <td>organic</td>\n",
       "      <td>2.071925</td>\n",
       "      <td>3</td>\n",
       "      <td>0.01</td>\n",
       "    </tr>\n",
       "    <tr>\n",
       "      <th>3</th>\n",
       "      <td>5</td>\n",
       "      <td>4.235843</td>\n",
       "      <td>0.002915</td>\n",
       "      <td>paid</td>\n",
       "      <td>1.960654</td>\n",
       "      <td>5</td>\n",
       "      <td>0.01</td>\n",
       "    </tr>\n",
       "    <tr>\n",
       "      <th>4</th>\n",
       "      <td>3</td>\n",
       "      <td>4.541868</td>\n",
       "      <td>0.004207</td>\n",
       "      <td>social</td>\n",
       "      <td>3.438712</td>\n",
       "      <td>2</td>\n",
       "      <td>0.01</td>\n",
       "    </tr>\n",
       "    <tr>\n",
       "      <th>...</th>\n",
       "      <td>...</td>\n",
       "      <td>...</td>\n",
       "      <td>...</td>\n",
       "      <td>...</td>\n",
       "      <td>...</td>\n",
       "      <td>...</td>\n",
       "      <td>...</td>\n",
       "    </tr>\n",
       "    <tr>\n",
       "      <th>1883</th>\n",
       "      <td>9</td>\n",
       "      <td>3.577507</td>\n",
       "      <td>0.003522</td>\n",
       "      <td>paid</td>\n",
       "      <td>4.128122</td>\n",
       "      <td>3</td>\n",
       "      <td>0.01</td>\n",
       "    </tr>\n",
       "    <tr>\n",
       "      <th>1884</th>\n",
       "      <td>1</td>\n",
       "      <td>2.724513</td>\n",
       "      <td>0.002072</td>\n",
       "      <td>referral</td>\n",
       "      <td>1.324206</td>\n",
       "      <td>2</td>\n",
       "      <td>0.01</td>\n",
       "    </tr>\n",
       "    <tr>\n",
       "      <th>1885</th>\n",
       "      <td>3</td>\n",
       "      <td>0.392856</td>\n",
       "      <td>0.000956</td>\n",
       "      <td>organic</td>\n",
       "      <td>3.824416</td>\n",
       "      <td>1</td>\n",
       "      <td>0.01</td>\n",
       "    </tr>\n",
       "    <tr>\n",
       "      <th>1886</th>\n",
       "      <td>3</td>\n",
       "      <td>0.393319</td>\n",
       "      <td>0.002783</td>\n",
       "      <td>paid</td>\n",
       "      <td>5.037584</td>\n",
       "      <td>2</td>\n",
       "      <td>0.01</td>\n",
       "    </tr>\n",
       "    <tr>\n",
       "      <th>1887</th>\n",
       "      <td>3</td>\n",
       "      <td>0.882638</td>\n",
       "      <td>0.003380</td>\n",
       "      <td>direct</td>\n",
       "      <td>5.186908</td>\n",
       "      <td>3</td>\n",
       "      <td>0.01</td>\n",
       "    </tr>\n",
       "  </tbody>\n",
       "</table>\n",
       "<p>1888 rows × 7 columns</p>\n",
       "</div>"
      ],
      "text/plain": [
       "      Page Views  Session Duration  Bounce Rate Traffic Source  Time on Page  \\\n",
       "0              4          3.429316     0.003910         social      8.478174   \n",
       "1              4          1.621052     0.003980        organic      9.636170   \n",
       "2              5          3.629279     0.001805        organic      2.071925   \n",
       "3              5          4.235843     0.002915           paid      1.960654   \n",
       "4              3          4.541868     0.004207         social      3.438712   \n",
       "...          ...               ...          ...            ...           ...   \n",
       "1883           9          3.577507     0.003522           paid      4.128122   \n",
       "1884           1          2.724513     0.002072       referral      1.324206   \n",
       "1885           3          0.392856     0.000956        organic      3.824416   \n",
       "1886           3          0.393319     0.002783           paid      5.037584   \n",
       "1887           3          0.882638     0.003380         direct      5.186908   \n",
       "\n",
       "      Previous Visits  Conversion Rate  \n",
       "0                   0             0.01  \n",
       "1                   2             0.01  \n",
       "2                   3             0.01  \n",
       "3                   5             0.01  \n",
       "4                   2             0.01  \n",
       "...               ...              ...  \n",
       "1883                3             0.01  \n",
       "1884                2             0.01  \n",
       "1885                1             0.01  \n",
       "1886                2             0.01  \n",
       "1887                3             0.01  \n",
       "\n",
       "[1888 rows x 7 columns]"
      ]
     },
     "execution_count": 2,
     "metadata": {},
     "output_type": "execute_result"
    }
   ],
   "source": [
    "# Load your cleaned data\n",
    "df = pd.read_csv(\"./Data/clean_website_wata.csv\") \n",
    "df"
   ]
  },
  {
   "cell_type": "markdown",
   "metadata": {},
   "source": [
    "# 1. Hypothesis Testing (t-test: comparing average session duration between two traffic sources)"
   ]
  },
  {
   "cell_type": "code",
   "execution_count": 5,
   "metadata": {},
   "outputs": [
    {
     "name": "stdout",
     "output_type": "stream",
     "text": [
      "T-statistic: 1.8314422743193164\n",
      "P-value: 0.06737867747221464\n",
      "There is no statistically significant difference in session duration between organic and paid.\n"
     ]
    }
   ],
   "source": [
    "source1 = 'organic'\n",
    "source2 = 'paid'\n",
    "\n",
    "duration_source1 = df[df['Traffic Source'] == source1]['Session Duration']\n",
    "duration_source2 = df[df['Traffic Source'] == source2]['Session Duration']\n",
    "\n",
    "t_stat, p_value = stats.ttest_ind(duration_source1, duration_source2, equal_var=False) # Unequal variances assumed\n",
    "\n",
    "print(f\"T-statistic: {t_stat}\")\n",
    "print(f\"P-value: {p_value}\")\n",
    "\n",
    "if p_value < 0.05:\n",
    "    print(f\"There is a statistically significant difference in session duration between {source1} and {source2}.\")\n",
    "else:\n",
    "    print(f\"There is no statistically significant difference in session duration between {source1} and {source2}.\")"
   ]
  },
  {
   "cell_type": "markdown",
   "metadata": {},
   "source": [
    "# 2. ANOVA (comparing average conversion rates across multiple traffic sources)"
   ]
  },
  {
   "cell_type": "code",
   "execution_count": 6,
   "metadata": {},
   "outputs": [
    {
     "name": "stdout",
     "output_type": "stream",
     "text": [
      "\n",
      "ANOVA Table (Conversion Rates by Traffic Source):\n",
      "                       sum_sq      df         F    PR(>F)\n",
      "Q(\"Traffic Source\")  0.000002     4.0  0.937965  0.440879\n",
      "Residual             0.000857  1883.0       NaN       NaN\n"
     ]
    }
   ],
   "source": [
    "model = ols('Q(\"Conversion Rate\") ~ Q(\"Traffic Source\")', data=df).fit() #statsmodels handles the categorical data for you.\n",
    "anova_table = sm.stats.anova_lm(model, typ=2)\n",
    "\n",
    "print(\"\\nANOVA Table (Conversion Rates by Traffic Source):\")\n",
    "print(anova_table)"
   ]
  },
  {
   "cell_type": "markdown",
   "metadata": {},
   "source": [
    "# 3. Chi-Square Test (relationship between Traffic Source and High Bounce Rate)"
   ]
  },
  {
   "cell_type": "code",
   "execution_count": 7,
   "metadata": {},
   "outputs": [
    {
     "name": "stdout",
     "output_type": "stream",
     "text": [
      "\n",
      "Chi-Square Statistic: 3.9808362178242636\n",
      "P-value: 0.4086055982953637\n",
      "Degrees of Freedom: 4\n",
      "Expected Frequencies:\n",
      "[[103.  103. ]\n",
      " [369.5 369.5]\n",
      " [201.5 201.5]\n",
      " [142.  142. ]\n",
      " [128.  128. ]]\n",
      "There is no statistically significant relationship between Traffic Source and High Bounce Rate.\n"
     ]
    }
   ],
   "source": [
    "df['High Bounce'] = (df['Bounce Rate'] > df['Bounce Rate'].median()).astype(int)\n",
    "\n",
    "contingency_table = pd.crosstab(df['Traffic Source'], df['High Bounce'])\n",
    "\n",
    "chi2, p, dof, expected = stats.chi2_contingency(contingency_table)\n",
    "\n",
    "print(f\"\\nChi-Square Statistic: {chi2}\")\n",
    "print(f\"P-value: {p}\")\n",
    "print(f\"Degrees of Freedom: {dof}\")\n",
    "print(\"Expected Frequencies:\")\n",
    "print(expected)\n",
    "\n",
    "if p < 0.05:\n",
    "    print(\"There is a statistically significant relationship between Traffic Source and High Bounce Rate.\")\n",
    "else:\n",
    "    print(\"There is no statistically significant relationship between Traffic Source and High Bounce Rate.\")"
   ]
  },
  {
   "cell_type": "markdown",
   "metadata": {},
   "source": [
    "# 4. Correlation test (Pearson correlation between session duration and page views)"
   ]
  },
  {
   "cell_type": "code",
   "execution_count": 8,
   "metadata": {},
   "outputs": [
    {
     "name": "stdout",
     "output_type": "stream",
     "text": [
      "\n",
      "Pearson Correlation Coefficient: -0.002252450277255582\n",
      "P-value: 0.9220857095303984\n",
      "There is no statistically significant correlation between Session Duration and Page Views.\n"
     ]
    }
   ],
   "source": [
    "correlation, p_value = stats.pearsonr(df['Session Duration'], df['Page Views'])\n",
    "\n",
    "print(f\"\\nPearson Correlation Coefficient: {correlation}\")\n",
    "print(f\"P-value: {p_value}\")\n",
    "\n",
    "if p_value < 0.05:\n",
    "    print(\"There is a statistically significant correlation between Session Duration and Page Views.\")\n",
    "else:\n",
    "    print(\"There is no statistically significant correlation between Session Duration and Page Views.\")"
   ]
  },
  {
   "cell_type": "markdown",
   "metadata": {},
   "source": [
    "# 5. Regression Analysis (OLS regression to predict conversion rate)"
   ]
  },
  {
   "cell_type": "code",
   "execution_count": 9,
   "metadata": {},
   "outputs": [
    {
     "name": "stdout",
     "output_type": "stream",
     "text": [
      "                             OLS Regression Results                             \n",
      "================================================================================\n",
      "Dep. Variable:     Q(\"Conversion Rate\")   R-squared:                       0.071\n",
      "Model:                              OLS   Adj. R-squared:                  0.069\n",
      "Method:                   Least Squares   F-statistic:                     35.87\n",
      "Date:                  Wed, 12 Mar 2025   Prob (F-statistic):           6.34e-29\n",
      "Time:                          10:56:26   Log-Likelihood:                 11176.\n",
      "No. Observations:                  1888   AIC:                        -2.234e+04\n",
      "Df Residuals:                      1883   BIC:                        -2.231e+04\n",
      "Df Model:                             4                                         \n",
      "Covariance Type:              nonrobust                                         \n",
      "=========================================================================================\n",
      "                            coef    std err          t      P>|t|      [0.025      0.975]\n",
      "-----------------------------------------------------------------------------------------\n",
      "Intercept                 0.0094   5.25e-05    179.285      0.000       0.009       0.010\n",
      "Q(\"Session Duration\")  6.175e-05   6.96e-06      8.872      0.000    4.81e-05    7.54e-05\n",
      "Q(\"Page Views\")        3.972e-05   6.83e-06      5.814      0.000    2.63e-05    5.31e-05\n",
      "Q(\"Previous Visits\")   5.396e-05   1.05e-05      5.150      0.000    3.34e-05    7.45e-05\n",
      "Q(\"Bounce Rate\")         -0.0214      0.009     -2.291      0.022      -0.040      -0.003\n",
      "==============================================================================\n",
      "Omnibus:                     1671.880   Durbin-Watson:                   1.946\n",
      "Prob(Omnibus):                  0.000   Jarque-Bera (JB):            44588.009\n",
      "Skew:                          -4.238   Prob(JB):                         0.00\n",
      "Kurtosis:                      25.248   Cond. No.                     3.95e+03\n",
      "==============================================================================\n",
      "\n",
      "Notes:\n",
      "[1] Standard Errors assume that the covariance matrix of the errors is correctly specified.\n",
      "[2] The condition number is large, 3.95e+03. This might indicate that there are\n",
      "strong multicollinearity or other numerical problems.\n"
     ]
    }
   ],
   "source": [
    "model = ols('Q(\"Conversion Rate\") ~ Q(\"Session Duration\") + Q(\"Page Views\") + Q(\"Previous Visits\") + Q(\"Bounce Rate\")', data=df).fit()\n",
    "print(model.summary())"
   ]
  }
 ],
 "metadata": {
  "kernelspec": {
   "display_name": "streamlit_pycaret",
   "language": "python",
   "name": "python3"
  },
  "language_info": {
   "codemirror_mode": {
    "name": "ipython",
    "version": 3
   },
   "file_extension": ".py",
   "mimetype": "text/x-python",
   "name": "python",
   "nbconvert_exporter": "python",
   "pygments_lexer": "ipython3",
   "version": "3.11.7"
  }
 },
 "nbformat": 4,
 "nbformat_minor": 2
}
